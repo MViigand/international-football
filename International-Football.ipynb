{
 "cells": [
  {
   "cell_type": "markdown",
   "metadata": {},
   "source": [
    "# Goals \n",
    "### Goal 1:Determine how much home advantage affects the result of the game\n",
    "    Find winrates for home/away on non neutral fields\n",
    "    Find winrates for home/away on neutral fields \n",
    "    Plot them on a graph. \n",
    "    \n",
    "\n",
    "\n",
    "\n",
    "### Goal 2:Find out if games played on neutral location have smaller goal difference than rest of the games.\n",
    "    Find the average goal difference on neutral fields.\n",
    "    Find the average goal difference on non neutral fields. \n",
    "    graph.(done?)\n",
    "\n",
    "    \n",
    "### Goal 3: Different visualisations of the data. (Random facts) \n",
    "    Most commonly used location for neutral games \n",
    "    Most popular tournaments\n",
    "    Win precentages?\n",
    "    "
   ]
  },
  {
   "cell_type": "code",
   "execution_count": 1,
   "metadata": {},
   "outputs": [],
   "source": [
    "import pandas as pd\n",
    "import numpy as np\n",
    "import matplotlib.pyplot as plt\n",
    "import seaborn as sns\n"
   ]
  },
  {
   "cell_type": "code",
   "execution_count": 2,
   "metadata": {},
   "outputs": [
    {
     "data": {
      "text/html": [
       "<div>\n",
       "<style scoped>\n",
       "    .dataframe tbody tr th:only-of-type {\n",
       "        vertical-align: middle;\n",
       "    }\n",
       "\n",
       "    .dataframe tbody tr th {\n",
       "        vertical-align: top;\n",
       "    }\n",
       "\n",
       "    .dataframe thead th {\n",
       "        text-align: right;\n",
       "    }\n",
       "</style>\n",
       "<table border=\"1\" class=\"dataframe\">\n",
       "  <thead>\n",
       "    <tr style=\"text-align: right;\">\n",
       "      <th></th>\n",
       "      <th>Date</th>\n",
       "      <th>Home team</th>\n",
       "      <th>Away team</th>\n",
       "      <th>Home score</th>\n",
       "      <th>Away score</th>\n",
       "      <th>Tournament</th>\n",
       "      <th>City</th>\n",
       "      <th>Country</th>\n",
       "      <th>Neutral</th>\n",
       "    </tr>\n",
       "  </thead>\n",
       "  <tbody>\n",
       "    <tr>\n",
       "      <th>1</th>\n",
       "      <td>1872-11-30</td>\n",
       "      <td>Scotland</td>\n",
       "      <td>England</td>\n",
       "      <td>0</td>\n",
       "      <td>0</td>\n",
       "      <td>Friendly</td>\n",
       "      <td>Glasgow</td>\n",
       "      <td>Scotland</td>\n",
       "      <td>FALSE</td>\n",
       "    </tr>\n",
       "    <tr>\n",
       "      <th>2</th>\n",
       "      <td>1873-03-08</td>\n",
       "      <td>England</td>\n",
       "      <td>Scotland</td>\n",
       "      <td>4</td>\n",
       "      <td>2</td>\n",
       "      <td>Friendly</td>\n",
       "      <td>London</td>\n",
       "      <td>England</td>\n",
       "      <td>FALSE</td>\n",
       "    </tr>\n",
       "    <tr>\n",
       "      <th>3</th>\n",
       "      <td>1874-03-07</td>\n",
       "      <td>Scotland</td>\n",
       "      <td>England</td>\n",
       "      <td>2</td>\n",
       "      <td>1</td>\n",
       "      <td>Friendly</td>\n",
       "      <td>Glasgow</td>\n",
       "      <td>Scotland</td>\n",
       "      <td>FALSE</td>\n",
       "    </tr>\n",
       "    <tr>\n",
       "      <th>4</th>\n",
       "      <td>1875-03-06</td>\n",
       "      <td>England</td>\n",
       "      <td>Scotland</td>\n",
       "      <td>2</td>\n",
       "      <td>2</td>\n",
       "      <td>Friendly</td>\n",
       "      <td>London</td>\n",
       "      <td>England</td>\n",
       "      <td>FALSE</td>\n",
       "    </tr>\n",
       "    <tr>\n",
       "      <th>5</th>\n",
       "      <td>1876-03-04</td>\n",
       "      <td>Scotland</td>\n",
       "      <td>England</td>\n",
       "      <td>3</td>\n",
       "      <td>0</td>\n",
       "      <td>Friendly</td>\n",
       "      <td>Glasgow</td>\n",
       "      <td>Scotland</td>\n",
       "      <td>FALSE</td>\n",
       "    </tr>\n",
       "  </tbody>\n",
       "</table>\n",
       "</div>"
      ],
      "text/plain": [
       "         Date Home team Away team Home score Away score Tournament     City  \\\n",
       "1  1872-11-30  Scotland   England          0          0   Friendly  Glasgow   \n",
       "2  1873-03-08   England  Scotland          4          2   Friendly   London   \n",
       "3  1874-03-07  Scotland   England          2          1   Friendly  Glasgow   \n",
       "4  1875-03-06   England  Scotland          2          2   Friendly   London   \n",
       "5  1876-03-04  Scotland   England          3          0   Friendly  Glasgow   \n",
       "\n",
       "    Country Neutral  \n",
       "1  Scotland   FALSE  \n",
       "2   England   FALSE  \n",
       "3  Scotland   FALSE  \n",
       "4   England   FALSE  \n",
       "5  Scotland   FALSE  "
      ]
     },
     "execution_count": 2,
     "metadata": {},
     "output_type": "execute_result"
    }
   ],
   "source": [
    "#Reading in the data and converting it into an usable form\n",
    "data = pd.read_csv('results.csv', header = None)\n",
    "columns= ['Date', 'Home team', 'Away team', 'Home score', 'Away score', 'Tournament', 'City', 'Country', 'Neutral']\n",
    "data.columns = columns\n",
    "data.drop(index=0, inplace= True) # Removing the first line, as it contains column names.\n",
    "data.head()"
   ]
  },
  {
   "cell_type": "markdown",
   "metadata": {},
   "source": [
    "# Data cleaning and preparation."
   ]
  },
  {
   "cell_type": "code",
   "execution_count": 3,
   "metadata": {},
   "outputs": [],
   "source": [
    "#Removing the 'City' column as its not important in our application.\n",
    "data.drop('City', inplace=True, axis=1)"
   ]
  },
  {
   "cell_type": "code",
   "execution_count": 4,
   "metadata": {
    "scrolled": true
   },
   "outputs": [
    {
     "data": {
      "text/html": [
       "<div>\n",
       "<style scoped>\n",
       "    .dataframe tbody tr th:only-of-type {\n",
       "        vertical-align: middle;\n",
       "    }\n",
       "\n",
       "    .dataframe tbody tr th {\n",
       "        vertical-align: top;\n",
       "    }\n",
       "\n",
       "    .dataframe thead th {\n",
       "        text-align: right;\n",
       "    }\n",
       "</style>\n",
       "<table border=\"1\" class=\"dataframe\">\n",
       "  <thead>\n",
       "    <tr style=\"text-align: right;\">\n",
       "      <th></th>\n",
       "      <th>Date</th>\n",
       "      <th>Home team</th>\n",
       "      <th>Away team</th>\n",
       "      <th>Home score</th>\n",
       "      <th>Away score</th>\n",
       "      <th>Tournament</th>\n",
       "      <th>Country</th>\n",
       "      <th>Neutral</th>\n",
       "      <th>Score Difference</th>\n",
       "    </tr>\n",
       "  </thead>\n",
       "  <tbody>\n",
       "    <tr>\n",
       "      <th>1</th>\n",
       "      <td>1872-11-30</td>\n",
       "      <td>Scotland</td>\n",
       "      <td>England</td>\n",
       "      <td>0</td>\n",
       "      <td>0</td>\n",
       "      <td>Friendly</td>\n",
       "      <td>Scotland</td>\n",
       "      <td>FALSE</td>\n",
       "      <td>0</td>\n",
       "    </tr>\n",
       "    <tr>\n",
       "      <th>2</th>\n",
       "      <td>1873-03-08</td>\n",
       "      <td>England</td>\n",
       "      <td>Scotland</td>\n",
       "      <td>4</td>\n",
       "      <td>2</td>\n",
       "      <td>Friendly</td>\n",
       "      <td>England</td>\n",
       "      <td>FALSE</td>\n",
       "      <td>2</td>\n",
       "    </tr>\n",
       "    <tr>\n",
       "      <th>3</th>\n",
       "      <td>1874-03-07</td>\n",
       "      <td>Scotland</td>\n",
       "      <td>England</td>\n",
       "      <td>2</td>\n",
       "      <td>1</td>\n",
       "      <td>Friendly</td>\n",
       "      <td>Scotland</td>\n",
       "      <td>FALSE</td>\n",
       "      <td>1</td>\n",
       "    </tr>\n",
       "    <tr>\n",
       "      <th>4</th>\n",
       "      <td>1875-03-06</td>\n",
       "      <td>England</td>\n",
       "      <td>Scotland</td>\n",
       "      <td>2</td>\n",
       "      <td>2</td>\n",
       "      <td>Friendly</td>\n",
       "      <td>England</td>\n",
       "      <td>FALSE</td>\n",
       "      <td>0</td>\n",
       "    </tr>\n",
       "    <tr>\n",
       "      <th>5</th>\n",
       "      <td>1876-03-04</td>\n",
       "      <td>Scotland</td>\n",
       "      <td>England</td>\n",
       "      <td>3</td>\n",
       "      <td>0</td>\n",
       "      <td>Friendly</td>\n",
       "      <td>Scotland</td>\n",
       "      <td>FALSE</td>\n",
       "      <td>3</td>\n",
       "    </tr>\n",
       "  </tbody>\n",
       "</table>\n",
       "</div>"
      ],
      "text/plain": [
       "         Date Home team Away team  Home score  Away score Tournament  \\\n",
       "1  1872-11-30  Scotland   England           0           0   Friendly   \n",
       "2  1873-03-08   England  Scotland           4           2   Friendly   \n",
       "3  1874-03-07  Scotland   England           2           1   Friendly   \n",
       "4  1875-03-06   England  Scotland           2           2   Friendly   \n",
       "5  1876-03-04  Scotland   England           3           0   Friendly   \n",
       "\n",
       "    Country Neutral  Score Difference  \n",
       "1  Scotland   FALSE                 0  \n",
       "2   England   FALSE                 2  \n",
       "3  Scotland   FALSE                 1  \n",
       "4   England   FALSE                 0  \n",
       "5  Scotland   FALSE                 3  "
      ]
     },
     "execution_count": 4,
     "metadata": {},
     "output_type": "execute_result"
    }
   ],
   "source": [
    "#Adding a 'Score Difference' column\n",
    "data['Home score'] = data['Home score'].astype(\"int\")\n",
    "data['Away score'] = data['Away score'].astype(\"int\")\n",
    "\n",
    "data['Score Difference'] = data['Home score'] - data['Away score']\n",
    "data.head()"
   ]
  },
  {
   "cell_type": "code",
   "execution_count": 5,
   "metadata": {
    "scrolled": false
   },
   "outputs": [
    {
     "data": {
      "text/html": [
       "<div>\n",
       "<style scoped>\n",
       "    .dataframe tbody tr th:only-of-type {\n",
       "        vertical-align: middle;\n",
       "    }\n",
       "\n",
       "    .dataframe tbody tr th {\n",
       "        vertical-align: top;\n",
       "    }\n",
       "\n",
       "    .dataframe thead th {\n",
       "        text-align: right;\n",
       "    }\n",
       "</style>\n",
       "<table border=\"1\" class=\"dataframe\">\n",
       "  <thead>\n",
       "    <tr style=\"text-align: right;\">\n",
       "      <th></th>\n",
       "      <th>Date</th>\n",
       "      <th>Home team</th>\n",
       "      <th>Away team</th>\n",
       "      <th>Home score</th>\n",
       "      <th>Away score</th>\n",
       "      <th>Tournament</th>\n",
       "      <th>Country</th>\n",
       "      <th>Neutral</th>\n",
       "      <th>Score Difference</th>\n",
       "    </tr>\n",
       "  </thead>\n",
       "  <tbody>\n",
       "    <tr>\n",
       "      <th>1</th>\n",
       "      <td>1872-11-30</td>\n",
       "      <td>Scotland</td>\n",
       "      <td>England</td>\n",
       "      <td>0</td>\n",
       "      <td>0</td>\n",
       "      <td>Friendly</td>\n",
       "      <td>Scotland</td>\n",
       "      <td>0</td>\n",
       "      <td>0</td>\n",
       "    </tr>\n",
       "    <tr>\n",
       "      <th>2</th>\n",
       "      <td>1873-03-08</td>\n",
       "      <td>England</td>\n",
       "      <td>Scotland</td>\n",
       "      <td>4</td>\n",
       "      <td>2</td>\n",
       "      <td>Friendly</td>\n",
       "      <td>England</td>\n",
       "      <td>0</td>\n",
       "      <td>2</td>\n",
       "    </tr>\n",
       "    <tr>\n",
       "      <th>3</th>\n",
       "      <td>1874-03-07</td>\n",
       "      <td>Scotland</td>\n",
       "      <td>England</td>\n",
       "      <td>2</td>\n",
       "      <td>1</td>\n",
       "      <td>Friendly</td>\n",
       "      <td>Scotland</td>\n",
       "      <td>0</td>\n",
       "      <td>1</td>\n",
       "    </tr>\n",
       "    <tr>\n",
       "      <th>4</th>\n",
       "      <td>1875-03-06</td>\n",
       "      <td>England</td>\n",
       "      <td>Scotland</td>\n",
       "      <td>2</td>\n",
       "      <td>2</td>\n",
       "      <td>Friendly</td>\n",
       "      <td>England</td>\n",
       "      <td>0</td>\n",
       "      <td>0</td>\n",
       "    </tr>\n",
       "    <tr>\n",
       "      <th>5</th>\n",
       "      <td>1876-03-04</td>\n",
       "      <td>Scotland</td>\n",
       "      <td>England</td>\n",
       "      <td>3</td>\n",
       "      <td>0</td>\n",
       "      <td>Friendly</td>\n",
       "      <td>Scotland</td>\n",
       "      <td>0</td>\n",
       "      <td>3</td>\n",
       "    </tr>\n",
       "  </tbody>\n",
       "</table>\n",
       "</div>"
      ],
      "text/plain": [
       "         Date Home team Away team  Home score  Away score Tournament  \\\n",
       "1  1872-11-30  Scotland   England           0           0   Friendly   \n",
       "2  1873-03-08   England  Scotland           4           2   Friendly   \n",
       "3  1874-03-07  Scotland   England           2           1   Friendly   \n",
       "4  1875-03-06   England  Scotland           2           2   Friendly   \n",
       "5  1876-03-04  Scotland   England           3           0   Friendly   \n",
       "\n",
       "    Country  Neutral  Score Difference  \n",
       "1  Scotland        0                 0  \n",
       "2   England        0                 2  \n",
       "3  Scotland        0                 1  \n",
       "4   England        0                 0  \n",
       "5  Scotland        0                 3  "
      ]
     },
     "execution_count": 5,
     "metadata": {},
     "output_type": "execute_result"
    }
   ],
   "source": [
    "#Making a copy of the dataset for neutral and non neutral matches.\n",
    "data_neutral = data.copy(deep=True)\n",
    "data_neutral['Neutral'] = data_neutral['Neutral'].replace(\"FALSE\", 0)\n",
    "data_neutral['Neutral'] = data_neutral['Neutral'].replace(\"TRUE\", 1)\n",
    "data_neutral.drop(data_neutral[data_neutral['Neutral'] == 0].index, inplace = True) #Dropping all non neutral games.\n",
    "data_neutral.head(5)\n",
    "\n",
    "data_bias = data.copy(deep=True)\n",
    "data_bias['Neutral'] = data_bias['Neutral'].replace(\"FALSE\", 0)\n",
    "data_bias['Neutral'] = data_bias['Neutral'].replace(\"TRUE\", 1)\n",
    "data_bias.drop(data_bias[data_bias['Neutral'] == 1].index, inplace = True) #Dropping all neutral games.\n",
    "data_bias.head(5)"
   ]
  },
  {
   "cell_type": "markdown",
   "metadata": {},
   "source": [
    "# Goal 1"
   ]
  },
  {
   "cell_type": "code",
   "execution_count": 6,
   "metadata": {},
   "outputs": [
    {
     "name": "stdout",
     "output_type": "stream",
     "text": [
      "Home winrate: 50.45%\n",
      "Away winrate: 26.44%\n",
      "Draw: 23.11%\n"
     ]
    }
   ],
   "source": [
    "#Finding home and away winrates on non neutral fields\n",
    "conditions = [\n",
    "    (data_bias['Score Difference'] > 0),\n",
    "    (data_bias['Score Difference'] < 0),\n",
    "    (data_bias['Score Difference'] == 0)\n",
    "]\n",
    "values= ['Home', 'Away', 'Draw']\n",
    "data_bias['Winner'] = np.select(conditions, values)\n",
    "\n",
    "\n",
    "home_wr = str(round(len(data_bias[data_bias[\"Winner\"] == \"Home\"]) / len(data_bias) * 100, 2))\n",
    "print('Home winrate: ' + home_wr + '%')\n",
    "away_wr = str(round(len(data_bias[data_bias[\"Winner\"] == \"Away\"]) / len(data_bias) * 100, 2))\n",
    "print('Away winrate: ' + away_wr + '%')\n",
    "draw_wr = str(round(len(data_bias[data_bias[\"Winner\"] == \"Draw\"]) / len(data_bias) * 100, 2))\n",
    "print('Draw: ' + draw_wr + '%')\n"
   ]
  },
  {
   "cell_type": "code",
   "execution_count": 7,
   "metadata": {},
   "outputs": [
    {
     "name": "stdout",
     "output_type": "stream",
     "text": [
      "Home winrate: 43.06%\n",
      "Away winrate: 34.14%\n",
      "Draw: 22.8%\n"
     ]
    }
   ],
   "source": [
    "conditions = [\n",
    "    (data_neutral['Score Difference'] > 0),\n",
    "    (data_neutral['Score Difference'] < 0),\n",
    "    (data_neutral['Score Difference'] == 0)\n",
    "]\n",
    "values= ['Home', 'Away', 'Draw']\n",
    "data_neutral['Winner'] = np.select(conditions, values)\n",
    "\n",
    "\n",
    "home_n_wr = str(round(len(data_neutral[data_neutral[\"Winner\"] == \"Home\"]) / len(data_neutral) * 100, 2))\n",
    "print('Home winrate: ' + home_n_wr + '%')\n",
    "away_n_wr = str(round(len(data_neutral[data_neutral[\"Winner\"] == \"Away\"]) / len(data_neutral) * 100, 2))\n",
    "print('Away winrate: ' + away_n_wr + '%')\n",
    "draw_n_wr = str(round(len(data_neutral[data_neutral[\"Winner\"] == \"Draw\"]) / len(data_neutral) * 100, 2))\n",
    "print('Draw: ' + draw_n_wr + '%')\n"
   ]
  },
  {
   "cell_type": "markdown",
   "metadata": {},
   "source": [
    "In this case Home and away just reference to the teams position on the row, as the field is neutral."
   ]
  },
  {
   "cell_type": "code",
   "execution_count": 8,
   "metadata": {},
   "outputs": [
    {
     "data": {
      "image/png": "[encoded data removed]",
      "text/plain": [
       "<Figure size 432x288 with 1 Axes>"
      ]
     },
     "metadata": {
      "needs_background": "light"
     },
     "output_type": "display_data"
    }
   ],
   "source": [
    "# set width of bar\n",
    "barWidth = 0.25\n",
    " \n",
    "# set height of bar\n",
    "bars1 = [float(home_n_wr), float(home_wr)]\n",
    "bars2 = [float(away_n_wr), float(away_wr)]\n",
    "bars3 = [float(draw_n_wr), float(draw_wr)]\n",
    " \n",
    "# Set position of bar on X axis\n",
    "r1 = np.arange(len(bars1))\n",
    "r2 = [x + barWidth for x in r1]\n",
    "r3 = [x + barWidth for x in r2]\n",
    " \n",
    "# Make the plot\n",
    "plt.bar(r1, bars1, color='r', width=barWidth, edgecolor='white', label='home win')\n",
    "plt.bar(r2, bars2, color='g', width=barWidth, edgecolor='white', label='away win')\n",
    "plt.bar(r3, bars3, color='b', width=barWidth, edgecolor='white', label='draw')\n",
    " \n",
    "# Add xticks on the middle of the group bars\n",
    "plt.xlabel('group', fontweight='bold')\n",
    "plt.xticks([r + barWidth for r in range(len(bars1))], ['Neutral', 'Non neutral'])\n",
    " \n",
    "# Create legend & Show graphic\n",
    "plt.legend()\n",
    "plt.show()\n"
   ]
  },
  {
   "cell_type": "markdown",
   "metadata": {},
   "source": [
    "# Goal 2\n"
   ]
  },
  {
   "cell_type": "code",
   "execution_count": 9,
   "metadata": {},
   "outputs": [
    {
     "data": {
      "text/plain": [
       "Text(0.5, 1.0, 'Mean goal difference in neutral and non neutral matches')"
      ]
     },
     "execution_count": 9,
     "metadata": {},
     "output_type": "execute_result"
    },
    {
     "data": {
      "image/png": "[encoded data removed]",
      "text/plain": [
       "<Figure size 432x288 with 1 Axes>"
      ]
     },
     "metadata": {
      "needs_background": "light"
     },
     "output_type": "display_data"
    }
   ],
   "source": [
    "neutral = abs(data_neutral['Score Difference']).mean()\n",
    "non_neutral = abs(data_bias['Score Difference']).mean()\n",
    "\n",
    "fig = plt.figure()\n",
    "ax = fig.add_axes([0,0,1,1])\n",
    "ax.bar(['Neutral', 'Non neutral'], [neutral, non_neutral])\n",
    "plt.title('Mean goal difference in neutral and non neutral matches')\n"
   ]
  },
  {
   "cell_type": "markdown",
   "metadata": {},
   "source": [
    "# Friendly / not friendly (Goal 2 extended)"
   ]
  },
  {
   "cell_type": "code",
   "execution_count": 10,
   "metadata": {},
   "outputs": [
    {
     "data": {
      "text/plain": [
       "Text(0.5, 1.0, 'Mean goal difference in friendly and non friendly matches')"
      ]
     },
     "execution_count": 10,
     "metadata": {},
     "output_type": "execute_result"
    },
    {
     "data": {
      "image/png": "[encoded data removed]",
      "text/plain": [
       "<Figure size 432x288 with 1 Axes>"
      ]
     },
     "metadata": {
      "needs_background": "light"
     },
     "output_type": "display_data"
    }
   ],
   "source": [
    "data_friendly = data['Tournament'] == 'Friendly'\n",
    "mean_friendly = abs(data.loc[data_friendly, 'Score Difference']).mean()\n",
    "\n",
    "data_nonfriendly = data['Tournament'] != 'Friendly'\n",
    "mean_nonfriendly = abs(data.loc[data_nonfriendly, 'Score Difference']).mean()\n",
    "\n",
    "\n",
    "fig = plt.figure()\n",
    "ax = fig.add_axes([0,0,1,1])\n",
    "ax.bar(['Friendly', 'Non friendly'], [mean_friendly, mean_nonfriendly])\n",
    "plt.title('Mean goal difference in friendly and non friendly matches')"
   ]
  },
  {
   "cell_type": "markdown",
   "metadata": {},
   "source": [
    "# Goal 3\n"
   ]
  },
  {
   "cell_type": "code",
   "execution_count": 11,
   "metadata": {
    "scrolled": true
   },
   "outputs": [
    {
     "data": {
      "text/plain": [
       "<function matplotlib.pyplot.show(*args, **kw)>"
      ]
     },
     "execution_count": 11,
     "metadata": {},
     "output_type": "execute_result"
    },
    {
     "data": {
      "image/png": "[encoded data removed]",
      "text/plain": [
       "<Figure size 432x288 with 1 Axes>"
      ]
     },
     "metadata": {
      "needs_background": "light"
     },
     "output_type": "display_data"
    }
   ],
   "source": [
    "# Most commonly used location for neutral games\n",
    "\n",
    "#data_neutral['Country'].value_counts()\n",
    "\n",
    "sns.barplot(x= data_neutral['Country'].value_counts().index[:15], y= data_neutral['Country'].value_counts().values[:15] )\n",
    "plt.xticks(rotation=90)\n",
    "plt.show"
   ]
  },
  {
   "cell_type": "code",
   "execution_count": 12,
   "metadata": {},
   "outputs": [
    {
     "data": {
      "image/png": "[encoded data removed]",
      "text/plain": [
       "<Figure size 432x288 with 1 Axes>"
      ]
     },
     "metadata": {
      "needs_background": "light"
     },
     "output_type": "display_data"
    }
   ],
   "source": [
    "#Visualisation of scores in neutral and non neutral matches.\n",
    "\n",
    "sns.scatterplot(y=\"Home score\", x=\"Away score\", hue=\"Neutral\",data=data)\n",
    "plt.show()"
   ]
  },
  {
   "cell_type": "code",
   "execution_count": 13,
   "metadata": {},
   "outputs": [
    {
     "name": "stdout",
     "output_type": "stream",
     "text": [
      "Estonias win rate: 25.37%\n"
     ]
    }
   ],
   "source": [
    "conditions = [\n",
    "    (data['Score Difference'] > 0),\n",
    "    (data['Score Difference'] < 0),\n",
    "    (data['Score Difference'] == 0)\n",
    "]\n",
    "values= ['Home', 'Away', 'Draw']\n",
    "data['Winner'] = np.select(conditions, values)\n",
    "\n",
    "\n",
    "estonia_win = len(data[(data[\"Home team\"] == \"Estonia\") & (data['Winner'] == \"Home\")]) + len(data[(data[\"Away team\"] == \"Estonia\") & (data['Winner'] == \"Away\")])\n",
    "estonia = len(data[(data[\"Home team\"] == \"Estonia\")]) + len(data[(data[\"Away team\"] == \"Estonia\")])\n",
    "print('Estonias win rate: ' + str(round((estonia_win/estonia)*100 , 2)) + \"%\")"
   ]
  },
  {
   "cell_type": "code",
   "execution_count": null,
   "metadata": {},
   "outputs": [],
   "source": []
  }
 ],
 "metadata": {
  "kernelspec": {
   "display_name": "Python 3",
   "language": "python",
   "name": "python3"
  },
  "language_info": {
   "codemirror_mode": {
    "name": "ipython",
    "version": 3
   },
   "file_extension": ".py",
   "mimetype": "text/x-python",
   "name": "python",
   "nbconvert_exporter": "python",
   "pygments_lexer": "ipython3",
   "version": "3.8.3"
  }
 },
 "nbformat": 4,
 "nbformat_minor": 4
}
